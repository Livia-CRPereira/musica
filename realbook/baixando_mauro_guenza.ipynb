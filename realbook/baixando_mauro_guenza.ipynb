{
  "nbformat": 4,
  "nbformat_minor": 0,
  "metadata": {
    "colab": {
      "provenance": []
    },
    "kernelspec": {
      "name": "python3",
      "display_name": "Python 3"
    },
    "language_info": {
      "name": "python"
    }
  },
  "cells": [
    {
      "cell_type": "code",
      "execution_count": 2,
      "metadata": {
        "colab": {
          "base_uri": "https://localhost:8080/"
        },
        "id": "0jopGl68p94j",
        "outputId": "b71daea0-0ea0-4704-f7b6-0d3881a8c17a"
      },
      "outputs": [
        {
          "output_type": "stream",
          "name": "stdout",
          "text": [
            "Mounted at /content/drive\n"
          ]
        }
      ],
      "source": [
        "from google.colab import drive\n",
        "drive.mount('/content/drive')"
      ]
    },
    {
      "cell_type": "code",
      "source": [
        "!pip install -q yt-dlp"
      ],
      "metadata": {
        "id": "DdniDclqqTwn",
        "colab": {
          "base_uri": "https://localhost:8080/"
        },
        "outputId": "2fc477cb-7cd0-458d-82b0-6813fe556484"
      },
      "execution_count": 3,
      "outputs": [
        {
          "output_type": "stream",
          "name": "stdout",
          "text": [
            "\u001b[2K     \u001b[90m━━━━━━━━━━━━━━━━━━━━━━━━━━━━━━━━━━━━━━━\u001b[0m \u001b[32m175.9/175.9 kB\u001b[0m \u001b[31m6.4 MB/s\u001b[0m eta \u001b[36m0:00:00\u001b[0m\n",
            "\u001b[2K   \u001b[90m━━━━━━━━━━━━━━━━━━━━━━━━━━━━━━━━━━━━━━━━\u001b[0m \u001b[32m3.2/3.2 MB\u001b[0m \u001b[31m66.3 MB/s\u001b[0m eta \u001b[36m0:00:00\u001b[0m\n",
            "\u001b[?25h"
          ]
        }
      ]
    },
    {
      "cell_type": "code",
      "source": [
        "!pip install -q selenium webdriver-manager beautifulsoup4"
      ],
      "metadata": {
        "id": "Fjq5yCxCsVdh",
        "colab": {
          "base_uri": "https://localhost:8080/"
        },
        "outputId": "ca4602fd-a3f0-4f0f-cc91-f5644e476961"
      },
      "execution_count": 4,
      "outputs": [
        {
          "output_type": "stream",
          "name": "stdout",
          "text": [
            "\u001b[2K   \u001b[90m━━━━━━━━━━━━━━━━━━━━━━━━━━━━━━━━━━━━━━━━\u001b[0m \u001b[32m9.7/9.7 MB\u001b[0m \u001b[31m49.7 MB/s\u001b[0m eta \u001b[36m0:00:00\u001b[0m\n",
            "\u001b[2K   \u001b[90m━━━━━━━━━━━━━━━━━━━━━━━━━━━━━━━━━━━━━━━━\u001b[0m \u001b[32m512.7/512.7 kB\u001b[0m \u001b[31m13.5 MB/s\u001b[0m eta \u001b[36m0:00:00\u001b[0m\n",
            "\u001b[?25h"
          ]
        }
      ]
    },
    {
      "cell_type": "code",
      "source": [
        "# Célula de Instalação do Chrome (execute uma vez no início)\n",
        "\n",
        "# 1. Atualiza a lista de pacotes\n",
        "!apt-get update\n",
        "\n",
        "# 2. Instala as dependências necessárias para o Chrome rodar\n",
        "!apt-get install -y libu2f-udev fonts-liberation\n",
        "\n",
        "# 3. Baixa o pacote de instalação oficial do Google Chrome\n",
        "!wget https://dl.google.com/linux/direct/google-chrome-stable_current_amd64.deb\n",
        "\n",
        "# 4. Instala o pacote\n",
        "!dpkg -i google-chrome-stable_current_amd64.deb"
      ],
      "metadata": {
        "colab": {
          "base_uri": "https://localhost:8080/"
        },
        "id": "RPb8gow_uGIC",
        "outputId": "181897f4-01a0-403e-8ec4-c281a24d65a6"
      },
      "execution_count": 5,
      "outputs": [
        {
          "output_type": "stream",
          "name": "stdout",
          "text": [
            "Get:1 https://cloud.r-project.org/bin/linux/ubuntu jammy-cran40/ InRelease [3,632 B]\n",
            "Get:2 https://developer.download.nvidia.com/compute/cuda/repos/ubuntu2204/x86_64  InRelease [1,581 B]\n",
            "Hit:3 https://cli.github.com/packages stable InRelease\n",
            "Hit:4 http://archive.ubuntu.com/ubuntu jammy InRelease\n",
            "Get:5 http://security.ubuntu.com/ubuntu jammy-security InRelease [129 kB]\n",
            "Get:6 https://r2u.stat.illinois.edu/ubuntu jammy InRelease [6,555 B]\n",
            "Get:7 http://archive.ubuntu.com/ubuntu jammy-updates InRelease [128 kB]\n",
            "Get:8 https://developer.download.nvidia.com/compute/cuda/repos/ubuntu2204/x86_64  Packages [2,084 kB]\n",
            "Hit:9 https://ppa.launchpadcontent.net/deadsnakes/ppa/ubuntu jammy InRelease\n",
            "Get:10 http://archive.ubuntu.com/ubuntu jammy-backports InRelease [127 kB]\n",
            "Get:11 https://r2u.stat.illinois.edu/ubuntu jammy/main amd64 Packages [2,812 kB]\n",
            "Hit:12 https://ppa.launchpadcontent.net/graphics-drivers/ppa/ubuntu jammy InRelease\n",
            "Hit:13 https://ppa.launchpadcontent.net/ubuntugis/ppa/ubuntu jammy InRelease\n",
            "Get:14 http://security.ubuntu.com/ubuntu jammy-security/multiverse amd64 Packages [60.9 kB]\n",
            "Get:15 http://archive.ubuntu.com/ubuntu jammy-updates/universe amd64 Packages [1,594 kB]\n",
            "Get:16 http://security.ubuntu.com/ubuntu jammy-security/restricted amd64 Packages [5,803 kB]\n",
            "Get:17 https://r2u.stat.illinois.edu/ubuntu jammy/main all Packages [9,373 kB]\n",
            "Get:18 http://archive.ubuntu.com/ubuntu jammy-updates/main amd64 Packages [3,794 kB]\n",
            "Get:19 http://security.ubuntu.com/ubuntu jammy-security/main amd64 Packages [3,452 kB]\n",
            "Get:20 http://security.ubuntu.com/ubuntu jammy-security/universe amd64 Packages [1,288 kB]\n",
            "Get:21 http://archive.ubuntu.com/ubuntu jammy-updates/restricted amd64 Packages [6,036 kB]\n",
            "Fetched 36.7 MB in 5s (6,725 kB/s)\n",
            "Reading package lists... Done\n",
            "W: Skipping acquire of configured file 'main/source/Sources' as repository 'https://r2u.stat.illinois.edu/ubuntu jammy InRelease' does not seem to provide it (sources.list entry misspelt?)\n",
            "Reading package lists... Done\n",
            "Building dependency tree... Done\n",
            "Reading state information... Done\n",
            "fonts-liberation is already the newest version (1:1.07.4-11).\n",
            "The following additional packages will be installed:\n",
            "  libudev1 systemd-hwe-hwdb udev\n",
            "The following NEW packages will be installed:\n",
            "  libu2f-udev systemd-hwe-hwdb udev\n",
            "The following packages will be upgraded:\n",
            "  libudev1\n",
            "1 upgraded, 3 newly installed, 0 to remove and 39 not upgraded.\n",
            "Need to get 1,642 kB of archives.\n",
            "After this operation, 9,764 kB of additional disk space will be used.\n",
            "Get:1 http://archive.ubuntu.com/ubuntu jammy-updates/main amd64 libudev1 amd64 249.11-0ubuntu3.17 [76.7 kB]\n",
            "Get:2 http://archive.ubuntu.com/ubuntu jammy-updates/main amd64 udev amd64 249.11-0ubuntu3.17 [1,557 kB]\n",
            "Get:3 http://archive.ubuntu.com/ubuntu jammy/main amd64 libu2f-udev all 1.1.10-3build2 [4,190 B]\n",
            "Get:4 http://archive.ubuntu.com/ubuntu jammy-updates/main amd64 systemd-hwe-hwdb all 249.11.6 [3,668 B]\n",
            "Fetched 1,642 kB in 1s (2,333 kB/s)\n",
            "(Reading database ... 126675 files and directories currently installed.)\n",
            "Preparing to unpack .../libudev1_249.11-0ubuntu3.17_amd64.deb ...\n",
            "Unpacking libudev1:amd64 (249.11-0ubuntu3.17) over (249.11-0ubuntu3.12) ...\n",
            "Setting up libudev1:amd64 (249.11-0ubuntu3.17) ...\n",
            "Selecting previously unselected package udev.\n",
            "(Reading database ... 126675 files and directories currently installed.)\n",
            "Preparing to unpack .../udev_249.11-0ubuntu3.17_amd64.deb ...\n",
            "Unpacking udev (249.11-0ubuntu3.17) ...\n",
            "Selecting previously unselected package libu2f-udev.\n",
            "Preparing to unpack .../libu2f-udev_1.1.10-3build2_all.deb ...\n",
            "Unpacking libu2f-udev (1.1.10-3build2) ...\n",
            "Selecting previously unselected package systemd-hwe-hwdb.\n",
            "Preparing to unpack .../systemd-hwe-hwdb_249.11.6_all.deb ...\n",
            "Unpacking systemd-hwe-hwdb (249.11.6) ...\n",
            "Setting up udev (249.11-0ubuntu3.17) ...\n",
            "invoke-rc.d: could not determine current runlevel\n",
            "invoke-rc.d: policy-rc.d denied execution of start.\n",
            "Setting up systemd-hwe-hwdb (249.11.6) ...\n",
            "Setting up libu2f-udev (1.1.10-3build2) ...\n",
            "Processing triggers for man-db (2.10.2-1) ...\n",
            "Processing triggers for libc-bin (2.35-0ubuntu3.8) ...\n",
            "/sbin/ldconfig.real: /usr/local/lib/libhwloc.so.15 is not a symbolic link\n",
            "\n",
            "/sbin/ldconfig.real: /usr/local/lib/libtbbbind.so.3 is not a symbolic link\n",
            "\n",
            "/sbin/ldconfig.real: /usr/local/lib/libtbb.so.12 is not a symbolic link\n",
            "\n",
            "/sbin/ldconfig.real: /usr/local/lib/libur_adapter_opencl.so.0 is not a symbolic link\n",
            "\n",
            "/sbin/ldconfig.real: /usr/local/lib/libtcm_debug.so.1 is not a symbolic link\n",
            "\n",
            "/sbin/ldconfig.real: /usr/local/lib/libtcm.so.1 is not a symbolic link\n",
            "\n",
            "/sbin/ldconfig.real: /usr/local/lib/libtbbbind_2_0.so.3 is not a symbolic link\n",
            "\n",
            "/sbin/ldconfig.real: /usr/local/lib/libur_loader.so.0 is not a symbolic link\n",
            "\n",
            "/sbin/ldconfig.real: /usr/local/lib/libur_adapter_level_zero_v2.so.0 is not a symbolic link\n",
            "\n",
            "/sbin/ldconfig.real: /usr/local/lib/libtbbbind_2_5.so.3 is not a symbolic link\n",
            "\n",
            "/sbin/ldconfig.real: /usr/local/lib/libur_adapter_level_zero.so.0 is not a symbolic link\n",
            "\n",
            "/sbin/ldconfig.real: /usr/local/lib/libumf.so.0 is not a symbolic link\n",
            "\n",
            "/sbin/ldconfig.real: /usr/local/lib/libtbbmalloc_proxy.so.2 is not a symbolic link\n",
            "\n",
            "/sbin/ldconfig.real: /usr/local/lib/libtbbmalloc.so.2 is not a symbolic link\n",
            "\n",
            "--2025-10-21 11:56:11--  https://dl.google.com/linux/direct/google-chrome-stable_current_amd64.deb\n",
            "Resolving dl.google.com (dl.google.com)... 74.125.142.190, 74.125.142.136, 74.125.142.93, ...\n",
            "Connecting to dl.google.com (dl.google.com)|74.125.142.190|:443... connected.\n",
            "HTTP request sent, awaiting response... 200 OK\n",
            "Length: 120556940 (115M) [application/x-debian-package]\n",
            "Saving to: ‘google-chrome-stable_current_amd64.deb’\n",
            "\n",
            "google-chrome-stabl 100%[===================>] 114.97M   352MB/s    in 0.3s    \n",
            "\n",
            "2025-10-21 11:56:11 (352 MB/s) - ‘google-chrome-stable_current_amd64.deb’ saved [120556940/120556940]\n",
            "\n",
            "Selecting previously unselected package google-chrome-stable.\n",
            "(Reading database ... 126802 files and directories currently installed.)\n",
            "Preparing to unpack google-chrome-stable_current_amd64.deb ...\n",
            "Unpacking google-chrome-stable (141.0.7390.107-1) ...\n",
            "\u001b[1mdpkg:\u001b[0m dependency problems prevent configuration of google-chrome-stable:\n",
            " google-chrome-stable depends on libvulkan1; however:\n",
            "  Package libvulkan1 is not installed.\n",
            "\n",
            "\u001b[1mdpkg:\u001b[0m error processing package google-chrome-stable (--install):\n",
            " dependency problems - leaving unconfigured\n",
            "Processing triggers for mailcap (3.70+nmu1ubuntu1) ...\n",
            "Processing triggers for man-db (2.10.2-1) ...\n",
            "Errors were encountered while processing:\n",
            " google-chrome-stable\n"
          ]
        }
      ]
    },
    {
      "cell_type": "code",
      "source": [
        "PLAYLIST_URLS = [\n",
        "    \"https://youtube.com/playlist?list=PLwASK72qOY0ilVdf85SqD3KQlOO5k2DEV&si=pHUpG4x2Lji5wwl4\",\n",
        "    \"https://youtube.com/playlist?list=PLwASK72qOY0hj67HwBbZhEce3vSC63bJo&si=kxdwoECGxt0_819m\",\n",
        "    \"https://youtube.com/playlist?list=PLwASK72qOY0gKC-CuZw-BqupeoW9f6JnA&si=BqFhtYd7475Ng8WZ\",\n",
        "    \"https://youtube.com/playlist?list=PLwASK72qOY0jzcQHvT9NcNh3LAHHXgic3&si=9OH4HKbBJicOrY9l\"\n",
        "]"
      ],
      "metadata": {
        "id": "pkrRLG-qqPn3"
      },
      "execution_count": 7,
      "outputs": []
    },
    {
      "cell_type": "code",
      "source": [
        "import pandas as pd\n",
        "import os\n",
        "import yt_dlp  # Esta é a biblioteca-chave\n",
        "\n",
        "# --- CONFIGURAÇÃO ---\n",
        "DRIVE_BASE_FOLDER = '/content/drive/MyDrive/musica_ext/'\n",
        "# A pasta OUTPUT_FOLDER não era usada, então mantive assim.\n",
        "VIDEOS_LIST_CSV = os.path.join(DRIVE_BASE_FOLDER, 'lista_completa_videos.csv')\n",
        "\n",
        "PLAYLIST_URLS = [\n",
        "    \"https://youtube.com/playlist?list=PLwASK72qOY0ilVdf85SqD3KQlOO5k2DEV&si=pHUpG4x2Lji5wwl4\",\n",
        "    \"https://youtube.com/playlist?list=PLwASK72qOY0hj67HwBbZhEce3vSC63bJo&si=kxdwoECGxt0_819m\",\n",
        "    \"https://youtube.com/playlist?list=PLwASK72qOY0gKC-CuZw-BqupeoW9f6JnA&si=BqFhtYd7475Ng8WZ\",\n",
        "    \"https://youtube.com/playlist?list=PLwASK72qOY0jzcQHvT9NcNh3LAHHXgic3&si=9OH4HKbBJicOrY9l\"\n",
        "]\n",
        "\n",
        "def get_playlist_videos_with_yt_dlp(playlist_url):\n",
        "    \"\"\"\n",
        "    Usa yt-dlp para extrair os metadados da playlist de forma eficiente.\n",
        "    Este método vai buscar TODOS os vídeos (os 75, no seu caso).\n",
        "    \"\"\"\n",
        "    print(f\"\\nBuscando vídeos na playlist: {playlist_url}\")\n",
        "    videos = []\n",
        "\n",
        "    # Opções para o yt-dlp:\n",
        "    # 'extract_flat': Obtém a lista da playlist sem carregar cada vídeo (MUITO rápido).\n",
        "    # 'skip_download': Não baixa o vídeo.\n",
        "    # 'quiet': Não polui o console.\n",
        "    ydl_opts = {\n",
        "        'extract_flat': True,\n",
        "        'skip_download': True,\n",
        "        'quiet': True,\n",
        "        'force_generic_extractor': True,\n",
        "    }\n",
        "\n",
        "    try:\n",
        "        with yt_dlp.YoutubeDL(ydl_opts) as ydl:\n",
        "            # Extrai a informação da playlist\n",
        "            result = ydl.extract_info(playlist_url, download=False)\n",
        "\n",
        "            # 'entries' é a lista de todos os vídeos na playlist\n",
        "            if 'entries' in result:\n",
        "                for entry in result['entries']:\n",
        "                    if entry:\n",
        "                        videos.append({\n",
        "                            'url': entry.get('url'), # URL do vídeo\n",
        "                            'title': entry.get('title'), # Título do vídeo\n",
        "                            'playlist_url': playlist_url\n",
        "                        })\n",
        "\n",
        "        print(f\"-> Encontrados {len(videos)} vídeos.\") # Aqui deve mostrar 75!\n",
        "\n",
        "    except Exception as e:\n",
        "        print(f\"-> ERRO ao processar {playlist_url}: {e}\")\n",
        "\n",
        "    return videos\n",
        "\n",
        "\n",
        "def main():\n",
        "    print(f\"Iniciando busca das playlists...\\n\")\n",
        "    all_videos = []\n",
        "\n",
        "    for url in PLAYLIST_URLS:\n",
        "        videos = get_playlist_videos_with_yt_dlp(url)\n",
        "        all_videos.extend(videos)\n",
        "\n",
        "    if not all_videos:\n",
        "        print(\"⚠ Nenhum vídeo encontrado.\")\n",
        "        return\n",
        "\n",
        "    df = pd.DataFrame(all_videos)\n",
        "\n",
        "    # Garante que a pasta de destino exista\n",
        "    output_dir = os.path.dirname(VIDEOS_LIST_CSV)\n",
        "    if not os.path.exists(output_dir):\n",
        "        os.makedirs(output_dir)\n",
        "\n",
        "    df.to_csv(VIDEOS_LIST_CSV, index=False, encoding='utf-8')\n",
        "    print(f\"\\n✅ Lista de {len(df)} vídeos salva com sucesso em:\\n{VIDEOS_LIST_CSV}\")\n",
        "\n",
        "\n",
        "if __name__ == \"__main__\":\n",
        "    main()"
      ],
      "metadata": {
        "colab": {
          "base_uri": "https://localhost:8080/"
        },
        "id": "gF2okdAaqXnz",
        "outputId": "4fce00f7-72f2-472b-99bc-e357a607964c"
      },
      "execution_count": 11,
      "outputs": [
        {
          "output_type": "stream",
          "name": "stdout",
          "text": [
            "Iniciando busca das playlists...\n",
            "\n",
            "\n",
            "Buscando vídeos na playlist: https://youtube.com/playlist?list=PLwASK72qOY0ilVdf85SqD3KQlOO5k2DEV&si=pHUpG4x2Lji5wwl4\n",
            "-> Encontrados 75 vídeos.\n",
            "\n",
            "Buscando vídeos na playlist: https://youtube.com/playlist?list=PLwASK72qOY0hj67HwBbZhEce3vSC63bJo&si=kxdwoECGxt0_819m\n",
            "-> Encontrados 75 vídeos.\n",
            "\n",
            "Buscando vídeos na playlist: https://youtube.com/playlist?list=PLwASK72qOY0gKC-CuZw-BqupeoW9f6JnA&si=BqFhtYd7475Ng8WZ\n",
            "-> Encontrados 75 vídeos.\n",
            "\n",
            "Buscando vídeos na playlist: https://youtube.com/playlist?list=PLwASK72qOY0jzcQHvT9NcNh3LAHHXgic3&si=9OH4HKbBJicOrY9l\n",
            "-> Encontrados 74 vídeos.\n",
            "\n",
            "✅ Lista de 299 vídeos salva com sucesso em:\n",
            "/content/drive/MyDrive/musica_ext/lista_completa_videos.csv\n"
          ]
        }
      ]
    }
  ]
}